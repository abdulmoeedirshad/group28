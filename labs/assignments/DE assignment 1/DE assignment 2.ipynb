{
 "cells": [
  {
   "cell_type": "code",
   "execution_count": 9,
   "metadata": {},
   "outputs": [
    {
     "name": "stdout",
     "output_type": "stream",
     "text": [
      "Reddit data saved successfully.\n"
     ]
    }
   ],
   "source": [
    "import praw\n",
    "import pandas as pd\n",
    "import os\n",
    "\n",
    "def fetch_reddit_data(subreddit_name, keywords, limit=200):\n",
    "    \"\"\"Fetch Reddit posts from a given subreddit based on keywords.\"\"\"\n",
    "    reddit = praw.Reddit(\n",
    "        client_id='p_NydHVpTprO7ejCqYvD4Q',\n",
    "        client_secret='3hdwXlNNI3_Lu_srfwDN7Z9TXG4Z_Q',\n",
    "        user_agent='EVDataScraper/1.0 by hisham_fawad'\n",
    "    )\n",
    "\n",
    "    \n",
    "    subreddit = reddit.subreddit(subreddit_name)\n",
    "    posts = []\n",
    "    \n",
    "    for submission in subreddit.hot(limit=limit):\n",
    "        if any(keyword.lower() in submission.title.lower() for keyword in keywords):\n",
    "            posts.append({\n",
    "                'title': submission.title,\n",
    "                'text': submission.selftext,\n",
    "                'author': str(submission.author),\n",
    "                'date': submission.created_utc,\n",
    "                'upvotes': submission.score,\n",
    "                'subreddit': subreddit_name\n",
    "            })\n",
    "    \n",
    "    return pd.DataFrame(posts)\n",
    "\n",
    "def save_to_csv(df, filename):\n",
    "    \"\"\"Save DataFrame to CSV.\"\"\"\n",
    "    os.makedirs(os.path.dirname(filename), exist_ok=True)\n",
    "    df.to_csv(filename, index=False)\n",
    "\n",
    "def main():\n",
    "    keywords = [\"electric vehicle\", \"EV\", \"Tesla\", \"charging\"]\n",
    "    df = fetch_reddit_data(\"ElectricVehicles\", keywords)\n",
    "    save_to_csv(df, \"datasets/raw/reddit_posts.csv\")\n",
    "    print(\"Reddit data saved successfully.\")\n",
    "    \n",
    "if __name__ == \"__main__\":\n",
    "    main()"
   ]
  },
  {
   "cell_type": "code",
   "execution_count": 11,
   "metadata": {},
   "outputs": [
    {
     "name": "stdout",
     "output_type": "stream",
     "text": [
      "Google Trends data saved successfully.\n"
     ]
    },
    {
     "name": "stderr",
     "output_type": "stream",
     "text": [
      "c:\\Users\\Hisham\\AppData\\Local\\Programs\\Python\\Python312\\Lib\\site-packages\\pytrends\\request.py:260: FutureWarning: Downcasting object dtype arrays on .fillna, .ffill, .bfill is deprecated and will change in a future version. Call result.infer_objects(copy=False) instead. To opt-in to the future behavior, set `pd.set_option('future.no_silent_downcasting', True)`\n",
      "  df = df.fillna(False)\n"
     ]
    }
   ],
   "source": [
    "from pytrends.request import TrendReq\n",
    "import pandas as pd\n",
    "import os\n",
    "\n",
    "def fetch_google_trends(keywords, timeframe='today 12-m', geo='PK'):\n",
    "    \"\"\"Fetch Google Trends data for given keywords.\"\"\"\n",
    "    pytrends = TrendReq()\n",
    "    pytrends.build_payload(keywords, timeframe=timeframe, geo=geo)\n",
    "    trends_data = pytrends.interest_over_time()\n",
    "    \n",
    "    if 'isPartial' in trends_data.columns:\n",
    "        trends_data = trends_data.drop(columns=['isPartial'])\n",
    "    \n",
    "    return trends_data\n",
    "\n",
    "def save_to_csv(df, filename):\n",
    "    \"\"\"Save DataFrame to CSV.\"\"\"\n",
    "    os.makedirs(os.path.dirname(filename), exist_ok=True)\n",
    "    df.to_csv(filename, index=True)\n",
    "\n",
    "def main():\n",
    "    keywords = [\"electric vehicle\", \"Tesla\", \"EV charging\"]\n",
    "    df = fetch_google_trends(keywords)\n",
    "    save_to_csv(df, \"datasets/raw/google_trends.csv\")\n",
    "    print(\"Google Trends data saved successfully.\")\n",
    "    \n",
    "if __name__ == \"__main__\":\n",
    "    main()\n"
   ]
  },
  {
   "cell_type": "code",
   "execution_count": null,
   "metadata": {},
   "outputs": [
    {
     "name": "stdout",
     "output_type": "stream",
     "text": [
      "Downloading from https://www.kaggle.com/api/v1/datasets/download/sahirmaharajj/electric-vehicle-population?dataset_version_number=2...\n"
     ]
    },
    {
     "name": "stderr",
     "output_type": "stream",
     "text": [
      "100%|██████████| 5.67M/5.67M [00:01<00:00, 3.44MB/s]"
     ]
    },
    {
     "name": "stdout",
     "output_type": "stream",
     "text": [
      "Extracting files...\n"
     ]
    },
    {
     "name": "stderr",
     "output_type": "stream",
     "text": [
      "\n"
     ]
    },
    {
     "name": "stdout",
     "output_type": "stream",
     "text": [
      "Path to dataset files: C:\\Users\\Hisham\\.cache\\kagglehub\\datasets\\sahirmaharajj\\electric-vehicle-population\\versions\\2\n"
     ]
    }
   ],
   "source": [
    "# import kagglehub\n",
    "\n",
    "# # Download latest version\n",
    "# path = kagglehub.dataset_download(\"sahirmaharajj/electric-vehicle-population\")\n",
    "\n",
    "# print(\"Path to dataset files:\", path)"
   ]
  },
  {
   "cell_type": "code",
   "execution_count": null,
   "metadata": {},
   "outputs": [
    {
     "name": "stdout",
     "output_type": "stream",
     "text": [
      "Public dataset saved successfully.\n",
      "<class 'pandas.core.frame.DataFrame'>\n",
      "RangeIndex: 223995 entries, 0 to 223994\n",
      "Data columns (total 17 columns):\n",
      " #   Column                                             Non-Null Count   Dtype  \n",
      "---  ------                                             --------------   -----  \n",
      " 0   VIN (1-10)                                         223995 non-null  object \n",
      " 1   County                                             223992 non-null  object \n",
      " 2   City                                               223992 non-null  object \n",
      " 3   State                                              223995 non-null  object \n",
      " 4   Postal Code                                        223992 non-null  float64\n",
      " 5   Model Year                                         223995 non-null  int64  \n",
      " 6   Make                                               223995 non-null  object \n",
      " 7   Model                                              223995 non-null  object \n",
      " 8   Electric Vehicle Type                              223995 non-null  object \n",
      " 9   Clean Alternative Fuel Vehicle (CAFV) Eligibility  223995 non-null  object \n",
      " 10  Electric Range                                     223977 non-null  float64\n",
      " 11  Base MSRP                                          223977 non-null  float64\n",
      " 12  Legislative District                               223521 non-null  float64\n",
      " 13  DOL Vehicle ID                                     223995 non-null  int64  \n",
      " 14  Vehicle Location                                   223985 non-null  object \n",
      " 15  Electric Utility                                   223992 non-null  object \n",
      " 16  2020 Census Tract                                  223992 non-null  float64\n",
      "dtypes: float64(5), int64(2), object(10)\n",
      "memory usage: 29.1+ MB\n",
      "None\n",
      "         Postal Code     Model Year  Electric Range      Base MSRP  \\\n",
      "count  223992.000000  223995.000000   223977.000000  223977.000000   \n",
      "mean    98176.491165    2021.264408       47.736187     829.894386   \n",
      "std      2544.240509       2.989676       84.987140    7372.509049   \n",
      "min      1731.000000    1999.000000        0.000000       0.000000   \n",
      "25%     98052.000000    2020.000000        0.000000       0.000000   \n",
      "50%     98126.000000    2022.000000        0.000000       0.000000   \n",
      "75%     98374.000000    2023.000000       39.000000       0.000000   \n",
      "max     99577.000000    2025.000000      337.000000  845000.000000   \n",
      "\n",
      "       Legislative District  DOL Vehicle ID  2020 Census Tract  \n",
      "count         223521.000000    2.239950e+05       2.239920e+05  \n",
      "mean              28.876361    2.329328e+08       5.297997e+10  \n",
      "std               14.911023    6.884329e+07       1.531491e+09  \n",
      "min                1.000000    4.385000e+03       1.001020e+09  \n",
      "25%               17.000000    2.008002e+08       5.303301e+10  \n",
      "50%               32.000000    2.482992e+08       5.303303e+10  \n",
      "75%               42.000000    2.673973e+08       5.305307e+10  \n",
      "max               49.000000    4.792548e+08       5.602100e+10  \n"
     ]
    }
   ],
   "source": [
    "import pandas as pd\n",
    "import os\n",
    "\n",
    "def load_public_dataset(url, output_filename):\n",
    "    df = pd.read_csv(url)\n",
    "    os.makedirs(os.path.dirname(output_filename), exist_ok=True)\n",
    "    df.to_csv(output_filename, index=False)\n",
    "    return df\n",
    "\n",
    "def summarize_dataset(df):\n",
    "    print(df.info())\n",
    "    print(df.describe())\n",
    "\n",
    "def main():\n",
    "    dataset_url = \"https://data.ct.gov/api/views/jfhb-ebu6/rows.csv?accessType=DOWNLOAD\"  # source: https://catalog.data.gov/dataset/electric-vehicle-population-data\n",
    "    output_file = \"datasets/raw/public_ev_charging_data.csv\"\n",
    "    \n",
    "    df = load_public_dataset(dataset_url, output_file)\n",
    "    print(\"Public dataset saved successfully.\")\n",
    "    summarize_dataset(df)\n",
    "    \n",
    "if __name__ == \"__main__\":\n",
    "    main()\n",
    "\n"
   ]
  },
  {
   "cell_type": "code",
   "execution_count": 17,
   "metadata": {},
   "outputs": [
    {
     "ename": "ModuleNotFoundError",
     "evalue": "No module named 'reddit_data_collection'",
     "output_type": "error",
     "traceback": [
      "\u001b[1;31m---------------------------------------------------------------------------\u001b[0m",
      "\u001b[1;31mModuleNotFoundError\u001b[0m                       Traceback (most recent call last)",
      "Cell \u001b[1;32mIn[17], line 2\u001b[0m\n\u001b[0;32m      1\u001b[0m \u001b[38;5;28;01mimport\u001b[39;00m \u001b[38;5;21;01mos\u001b[39;00m\n\u001b[1;32m----> 2\u001b[0m \u001b[38;5;28;01mfrom\u001b[39;00m \u001b[38;5;21;01mreddit_data_collection\u001b[39;00m \u001b[38;5;28;01mimport\u001b[39;00m main \u001b[38;5;28;01mas\u001b[39;00m fetch_reddit\n\u001b[0;32m      3\u001b[0m \u001b[38;5;28;01mfrom\u001b[39;00m \u001b[38;5;21;01mgoogle_trends_data\u001b[39;00m \u001b[38;5;28;01mimport\u001b[39;00m main \u001b[38;5;28;01mas\u001b[39;00m fetch_trends\n\u001b[0;32m      4\u001b[0m \u001b[38;5;28;01mfrom\u001b[39;00m \u001b[38;5;21;01mpublic_data_processing\u001b[39;00m \u001b[38;5;28;01mimport\u001b[39;00m main \u001b[38;5;28;01mas\u001b[39;00m fetch_public_data\n",
      "\u001b[1;31mModuleNotFoundError\u001b[0m: No module named 'reddit_data_collection'"
     ]
    }
   ],
   "source": [
    "import os\n",
    "from reddit_data_collection import main as fetch_reddit\n",
    "from google_trends_data import main as fetch_trends\n",
    "from public_data_processing import main as fetch_public_data\n",
    "\n",
    "def create_directory_structure():\n",
    "    \"\"\"Create necessary directories for storing data.\"\"\"\n",
    "    os.makedirs(\"datasets/raw\", exist_ok=True)\n",
    "    os.makedirs(\"datasets/processed\", exist_ok=True)\n",
    "\n",
    "def main():\n",
    "    \"\"\"Run the full data pipeline.\"\"\"\n",
    "    print(\"Starting data collection pipeline...\")\n",
    "    \n",
    "    create_directory_structure()\n",
    "    fetch_reddit()\n",
    "    fetch_trends()\n",
    "    fetch_public_data()\n",
    "    \n",
    "    print(\"Data collection pipeline completed successfully.\")\n",
    "\n",
    "if __name__ == \"__main__\":\n",
    "    main()\n"
   ]
  },
  {
   "cell_type": "code",
   "execution_count": null,
   "metadata": {},
   "outputs": [],
   "source": []
  }
 ],
 "metadata": {
  "kernelspec": {
   "display_name": "Python 3",
   "language": "python",
   "name": "python3"
  },
  "language_info": {
   "codemirror_mode": {
    "name": "ipython",
    "version": 3
   },
   "file_extension": ".py",
   "mimetype": "text/x-python",
   "name": "python",
   "nbconvert_exporter": "python",
   "pygments_lexer": "ipython3",
   "version": "3.12.5"
  }
 },
 "nbformat": 4,
 "nbformat_minor": 2
}
