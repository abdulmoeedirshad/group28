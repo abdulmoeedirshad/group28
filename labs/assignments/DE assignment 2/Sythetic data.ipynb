{
 "cells": [
  {
   "cell_type": "code",
   "execution_count": 2,
   "metadata": {},
   "outputs": [],
   "source": [
    "##Generating synthetic Data"
   ]
  },
  {
   "cell_type": "code",
   "execution_count": 1,
   "metadata": {},
   "outputs": [
    {
     "name": "stdout",
     "output_type": "stream",
     "text": [
      "Synthetic data generated: user_logs.csv & content_metadata.csv\n"
     ]
    }
   ],
   "source": [
    "import pandas as pd\n",
    "import random\n",
    "from datetime import datetime, timedelta\n",
    "\n",
    "# Generate User Activity Logs\n",
    "def generate_user_logs(start_date, days):\n",
    "    actions = ['play', 'pause', 'skip', 'forward']\n",
    "    devices = ['mobile', 'desktop', 'tablet']\n",
    "    regions = ['US', 'EU', 'APAC']\n",
    "    user_logs = []\n",
    "    \n",
    "    for i in range(days):\n",
    "        date = start_date + timedelta(days=i)\n",
    "        for _ in range(random.randint(20, 30)):\n",
    "            user_logs.append([\n",
    "                random.randint(100, 200),  # user_id\n",
    "                random.randint(1000, 1010),  # content_id\n",
    "                random.choice(actions),  # action\n",
    "                date.strftime('%Y-%m-%d %H:%M:%S'),  # timestamp\n",
    "                random.choice(devices),  # device\n",
    "                random.choice(regions),  # region\n",
    "                f\"sess_{random.randint(1, 50)}\"  # session_id\n",
    "            ])\n",
    "    \n",
    "    df_logs = pd.DataFrame(user_logs, columns=[\"user_id\", \"content_id\", \"action\", \"timestamp\", \"device\", \"region\", \"session_id\"])\n",
    "    df_logs.to_csv(\"user_logs.csv\", index=False)\n",
    "\n",
    "# Generate Content Metadata\n",
    "def generate_content_metadata():\n",
    "    categories = ['Pop', 'Rock', 'Podcast', 'News', 'Jazz']\n",
    "    content_metadata = []\n",
    "    \n",
    "    for content_id in range(1000, 1011):\n",
    "        content_metadata.append([\n",
    "            content_id,\n",
    "            f\"Title {content_id}\",\n",
    "            random.choice(categories),\n",
    "            random.randint(120, 300),  # length in seconds\n",
    "            f\"Artist {random.randint(1, 10)}\"\n",
    "        ])\n",
    "    \n",
    "    df_metadata = pd.DataFrame(content_metadata, columns=[\"content_id\", \"title\", \"category\", \"length\", \"artist\"])\n",
    "    df_metadata.to_csv(\"content_metadata.csv\", index=False)\n",
    "\n",
    "# Run data generation\n",
    "generate_user_logs(datetime(2023, 9, 1), 7)\n",
    "generate_content_metadata()\n",
    "\n",
    "print(\"Synthetic data generated: user_logs.csv & content_metadata.csv\")\n"
   ]
  },
  {
   "cell_type": "code",
   "execution_count": null,
   "metadata": {},
   "outputs": [],
   "source": []
  }
 ],
 "metadata": {
  "kernelspec": {
   "display_name": "Python 3",
   "language": "python",
   "name": "python3"
  },
  "language_info": {
   "codemirror_mode": {
    "name": "ipython",
    "version": 3
   },
   "file_extension": ".py",
   "mimetype": "text/x-python",
   "name": "python",
   "nbconvert_exporter": "python",
   "pygments_lexer": "ipython3",
   "version": "3.12.5"
  }
 },
 "nbformat": 4,
 "nbformat_minor": 2
}
